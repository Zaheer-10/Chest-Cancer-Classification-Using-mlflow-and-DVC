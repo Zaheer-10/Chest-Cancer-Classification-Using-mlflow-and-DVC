{
 "cells": [
  {
   "cell_type": "markdown",
   "metadata": {},
   "source": [
    "# DATA INGESTION"
   ]
  },
  {
   "cell_type": "code",
   "execution_count": 1,
   "metadata": {},
   "outputs": [],
   "source": [
    "import os "
   ]
  },
  {
   "cell_type": "code",
   "execution_count": 2,
   "metadata": {},
   "outputs": [
    {
     "data": {
      "text/plain": [
       "\"c:\\\\Users\\\\soulo\\\\MACHINE_LEARNING_UNIVERSE\\\\PROJECT'S\\\\Chest-Cancer-Classification-Using-mlflow-and-DVC\\\\RESEARCH\""
      ]
     },
     "execution_count": 2,
     "metadata": {},
     "output_type": "execute_result"
    }
   ],
   "source": [
    "%pwd"
   ]
  },
  {
   "cell_type": "code",
   "execution_count": 3,
   "metadata": {},
   "outputs": [
    {
     "data": {
      "text/plain": [
       "\"c:\\\\Users\\\\soulo\\\\MACHINE_LEARNING_UNIVERSE\\\\PROJECT'S\\\\Chest-Cancer-Classification-Using-mlflow-and-DVC\""
      ]
     },
     "execution_count": 3,
     "metadata": {},
     "output_type": "execute_result"
    }
   ],
   "source": [
    "os.chdir('../')\n",
    "%pwd"
   ]
  },
  {
   "cell_type": "markdown",
   "metadata": {},
   "source": [
    "# Workflows\n",
    "### -> Update config.yaml\n",
    "### -> Update secrets.yaml [Optional]\n",
    "### -> Update params.yaml\n",
    "### -> Update the entity\n",
    "### -> Update the configuration manager in src config\n",
    "### -> Update the components\n",
    "### -> Update the pipeline\n",
    "### -> Update the main.py\n",
    "### -> Update the dvc.yaml"
   ]
  },
  {
   "cell_type": "code",
   "execution_count": 4,
   "metadata": {},
   "outputs": [],
   "source": [
    "# 1 Update config.yaml file [done]"
   ]
  },
  {
   "cell_type": "markdown",
   "metadata": {},
   "source": [
    "## Update entity"
   ]
  },
  {
   "cell_type": "code",
   "execution_count": 9,
   "metadata": {},
   "outputs": [],
   "source": [
    "from dataclasses import dataclass\n",
    "from pathlib import Path\n",
    "\n",
    "@dataclass(frozen=True)\n",
    "class DataIngestionConfig:\n",
    "    root_dir: Path\n",
    "    source_url: str\n",
    "    local_data_file: Path\n",
    "    unzip_dir: Path"
   ]
  },
  {
   "cell_type": "markdown",
   "metadata": {},
   "source": [
    "## Update Configuration manger"
   ]
  },
  {
   "cell_type": "code",
   "execution_count": 18,
   "metadata": {},
   "outputs": [],
   "source": [
    "from Chest_Cancer_Classification.constants import *\n",
    "from Chest_Cancer_Classification.utils.common import read_yaml, create_directories"
   ]
  },
  {
   "cell_type": "code",
   "execution_count": 28,
   "metadata": {},
   "outputs": [],
   "source": [
    "class ConfigurationManger:\n",
    "    def __init__(self, config_file_path = CONFIG_FILE_PATH , params_file_path = PARAMS_FILE_PATH):\n",
    "        self.config  = read_yaml(config_file_path)\n",
    "        self.params  = read_yaml(params_file_path)\n",
    "        create_directories([self.config.artifacts_root])\n",
    "        \n",
    "    def get_data_ingestion_config(self) -> DataIngestionConfig:\n",
    "        config = self.config.data_ingestion\n",
    "        create_directories([config.root_dir])\n",
    "        \n",
    "        data_ingestion_config = DataIngestionConfig(\n",
    "            root_dir=config.root_dir,\n",
    "            source_url=config.source_url,\n",
    "            local_data_file=config.local_data_file,\n",
    "            unzip_dir=config.unzip_dir\n",
    "        )\n",
    "        \n",
    "        return data_ingestion_config\n",
    "    "
   ]
  },
  {
   "cell_type": "markdown",
   "metadata": {},
   "source": [
    "## Update components"
   ]
  },
  {
   "cell_type": "code",
   "execution_count": 22,
   "metadata": {},
   "outputs": [],
   "source": [
    "import os\n",
    "import gdown\n",
    "import zipfile\n",
    "import logging\n",
    "from Chest_Cancer_Classification import logger\n",
    "from Chest_Cancer_Classification.utils.common import get_size"
   ]
  },
  {
   "cell_type": "code",
   "execution_count": 30,
   "metadata": {},
   "outputs": [],
   "source": [
    "class DataIngestion:\n",
    "    def __init__(self , config: DataIngestionConfig):\n",
    "        self.config = config\n",
    "        \n",
    "    def download_file(self) -> str:\n",
    "        '''\n",
    "        Fetch the dataset from the google drive (url)\n",
    "        '''\n",
    "        try:\n",
    "            dataset_url = self.config.source_url\n",
    "            zip_dir = self.config.local_data_file\n",
    "            os.makedirs('artifacts/data_ingestion' , exist_ok=True)\n",
    "            logger.info(f'msg=Downloading data from {dataset_url} into file {zip_dir} (zip file)')\n",
    "            \n",
    "            file_id = dataset_url.split('/')[-2]\n",
    "            prefix = 'https://drive.google.com/u/0/uc?/export=download&id='\n",
    "            \n",
    "            \n",
    "            gdown.download(prefix+file_id, zip_dir)\n",
    "            \n",
    "            logger.info(f'Downloaded data from {dataset_url} into file {zip_dir} (zip file)')\n",
    "            \n",
    "        except Exception as e:\n",
    "            raise e\n",
    "        \n",
    "    def extract_zip_file(self):\n",
    "        \"\"\"\n",
    "        zip_file_path: str\n",
    "        Extracts the zip file into the data directory\n",
    "        Function returns None\n",
    "        \"\"\"\n",
    "        unzip_path = self.config.unzip_dir\n",
    "        os.makedirs(unzip_path, exist_ok=True)\n",
    "        with zipfile.ZipFile(self.config.local_data_file, 'r') as zip_ref:\n",
    "            zip_ref.extractall(unzip_path)\n",
    "            "
   ]
  },
  {
   "cell_type": "markdown",
   "metadata": {},
   "source": [
    "## Pipeline"
   ]
  },
  {
   "cell_type": "code",
   "execution_count": 31,
   "metadata": {},
   "outputs": [
    {
     "name": "stdout",
     "output_type": "stream",
     "text": [
      "[2023-12-02 22:31:17,602: INFO: common: yaml file: config\\config.yaml loaded successfully]\n",
      "[2023-12-02 22:31:17,605: INFO: common: yaml file: params.yaml loaded successfully]\n",
      "[2023-12-02 22:31:17,606: INFO: common: created directory at: artifacts]\n",
      "[2023-12-02 22:31:17,608: INFO: common: created directory at: artifacts/data_ingestion]\n",
      "[2023-12-02 22:31:17,609: INFO: 4283021077: msg=Downloading data from https://drive.google.com/file/d/1y9ftEl30hdWn61l1JJy5IxOUsp956Zpq/view?usp=sharing into file artifacts/data_ingestion/data.zip (zip file)]\n"
     ]
    },
    {
     "name": "stderr",
     "output_type": "stream",
     "text": [
      "Downloading...\n",
      "From (uriginal): https://drive.google.com/u/0/uc?/export=download&id=1y9ftEl30hdWn61l1JJy5IxOUsp956Zpq\n",
      "From (redirected): https://drive.google.com/uc?/export=download&id=1y9ftEl30hdWn61l1JJy5IxOUsp956Zpq&confirm=t&uuid=7e7bf27b-48b4-43eb-b430-9e087a1a93e8\n",
      "To: c:\\Users\\soulo\\MACHINE_LEARNING_UNIVERSE\\PROJECT'S\\Chest-Cancer-Classification-Using-mlflow-and-DVC\\artifacts\\data_ingestion\\data.zip\n",
      "100%|██████████| 49.0M/49.0M [00:04<00:00, 10.7MB/s]\n"
     ]
    },
    {
     "name": "stdout",
     "output_type": "stream",
     "text": [
      "[2023-12-02 22:31:23,707: INFO: 4283021077: Downloaded data from https://drive.google.com/file/d/1y9ftEl30hdWn61l1JJy5IxOUsp956Zpq/view?usp=sharing into file artifacts/data_ingestion/data.zip (zip file)]\n"
     ]
    }
   ],
   "source": [
    "try:\n",
    "    config = ConfigurationManger()\n",
    "    data_ingestion_config = config.get_data_ingestion_config()\n",
    "    data_ingestion = DataIngestion(config=data_ingestion_config)\n",
    "    data_ingestion.download_file()\n",
    "    data_ingestion.extract_zip_file()\n",
    "\n",
    "except Exception as e :\n",
    "    raise e\n",
    "    "
   ]
  }
 ],
 "metadata": {
  "kernelspec": {
   "display_name": "ML_projects",
   "language": "python",
   "name": "python3"
  },
  "language_info": {
   "codemirror_mode": {
    "name": "ipython",
    "version": 3
   },
   "file_extension": ".py",
   "mimetype": "text/x-python",
   "name": "python",
   "nbconvert_exporter": "python",
   "pygments_lexer": "ipython3",
   "version": "3.10.0"
  }
 },
 "nbformat": 4,
 "nbformat_minor": 2
}
